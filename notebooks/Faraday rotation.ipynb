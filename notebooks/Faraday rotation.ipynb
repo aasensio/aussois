{
 "metadata": {
  "name": "Faraday rotation"
 },
 "nbformat": 3,
 "nbformat_minor": 0,
 "worksheets": [
  {
   "cells": [
    {
     "cell_type": "heading",
     "level": 1,
     "metadata": {},
     "source": [
      "Rotation measure"
     ]
    },
    {
     "cell_type": "code",
     "collapsed": false,
     "input": [
      "import numpy as np\n",
      "import matplotlib.pylab as plt"
     ],
     "language": "python",
     "metadata": {},
     "outputs": [],
     "prompt_number": 12
    },
    {
     "cell_type": "markdown",
     "metadata": {},
     "source": [
      "The relation between the rotation angle and the rotation measure measure is linear:"
     ]
    },
    {
     "cell_type": "markdown",
     "metadata": {},
     "source": [
      "$\\beta = \\mathrm{RM} \\lambda^2$"
     ]
    },
    {
     "cell_type": "markdown",
     "metadata": {},
     "source": [
      "Our aim is to compute the rotation measure from a measurement of different rotation angles at different wavelengths. We first define the set of wavelengths where we make the measurement. Let us assume that we observe at "
     ]
    },
    {
     "cell_type": "code",
     "collapsed": false,
     "input": [
      "cLight = 3e10\n",
      "frequency = np.asarray([4.4, 4.9, 5.4, 6.7, 8.9, 11.0])*1e9\n",
      "wavelength = cLight / frequency\n",
      "ObservedBeta = 0.03 * wavelength**2 + 0.1*np.random.randn(6)"
     ],
     "language": "python",
     "metadata": {},
     "outputs": [],
     "prompt_number": 13
    },
    {
     "cell_type": "markdown",
     "metadata": {},
     "source": [
      "Let's do the plot of what we observe, noting that the points have some random noise added."
     ]
    },
    {
     "cell_type": "code",
     "collapsed": false,
     "input": [
      "plt.errorbar(wavelength**2, ObservedBeta,yerr=0.2,marker='.',color='k',linestyle='none')\n",
      "plt.xlabel(r'$\\lambda^2$')\n",
      "plt.ylabel(r'$\\beta$')"
     ],
     "language": "python",
     "metadata": {},
     "outputs": [
      {
       "output_type": "pyout",
       "prompt_number": 14,
       "text": [
        "<matplotlib.text.Text at 0x9917f6c>"
       ]
      },
      {
       "output_type": "display_data",
       "png": "[encoded data removed]"
      }
     ],
     "prompt_number": 14
    },
    {
     "cell_type": "markdown",
     "metadata": {},
     "source": [
      "In order to get the value of the rotation measure, we need to minimize the following merit function:"
     ]
    },
    {
     "cell_type": "markdown",
     "metadata": {},
     "source": [
      "\\begin{equation}\n",
      "\\chi^2 = \\sum_{i=1}^N \\frac{\\left(\\beta_i - \\lambda_i^2 \\mathrm{RM} \\right)^2}{\\sigma^2}\n",
      "\\end{equation}"
     ]
    },
    {
     "cell_type": "markdown",
     "metadata": {},
     "source": [
      "which can be done analytically by computing the first derivative and equating it to zero. We obtain:"
     ]
    },
    {
     "cell_type": "markdown",
     "metadata": {},
     "source": [
      "\\begin{equation}\n",
      "\\mathrm{RM} = \\frac{\\sum_i \\lambda_i^2 \\beta_i}{\\sum_i \\lambda_i^4}\n",
      "\\end{equation}"
     ]
    },
    {
     "cell_type": "code",
     "collapsed": false,
     "input": [
      "InferredRM = np.sum(wavelength**2 * ObservedBeta) / np.sum(wavelength**4)"
     ],
     "language": "python",
     "metadata": {},
     "outputs": [],
     "prompt_number": 15
    },
    {
     "cell_type": "markdown",
     "metadata": {},
     "source": [
      "The inferred value of the rotation measure is, then:"
     ]
    },
    {
     "cell_type": "code",
     "collapsed": false,
     "input": [
      "InferredRM"
     ],
     "language": "python",
     "metadata": {},
     "outputs": [
      {
       "output_type": "pyout",
       "prompt_number": 16,
       "text": [
        "0.030986361647827209"
       ]
      }
     ],
     "prompt_number": 16
    },
    {
     "cell_type": "markdown",
     "metadata": {},
     "source": [
      "which is very close to the original one that we assumed. We can plot the resulting straight line:"
     ]
    },
    {
     "cell_type": "code",
     "collapsed": false,
     "input": [
      "plt.errorbar(wavelength**2, ObservedBeta,yerr=0.2,marker='.',color='k',linestyle='none')\n",
      "plt.plot(wavelength**2, InferredRM*wavelength**2)\n",
      "plt.xlabel(r'$\\lambda^2$')\n",
      "plt.ylabel(r'$\\beta$')"
     ],
     "language": "python",
     "metadata": {},
     "outputs": [
      {
       "output_type": "pyout",
       "prompt_number": 17,
       "text": [
        "<matplotlib.text.Text at 0x9c23b4c>"
       ]
      },
      {
       "output_type": "display_data",
       "png": "[encoded data removed]"
      }
     ],
     "prompt_number": 17
    },
    {
     "cell_type": "markdown",
     "metadata": {},
     "source": [
      "Note that the same cannot be done using standard linear regression routines, because the linear fit has to go through the (0,0) point. The result of such a fit gives a different slope to what we used at the beginning:"
     ]
    },
    {
     "cell_type": "code",
     "collapsed": false,
     "input": [
      "(a,b) = polyfit(wavelength**2, ObservedBeta, 1)"
     ],
     "language": "python",
     "metadata": {},
     "outputs": [],
     "prompt_number": 18
    },
    {
     "cell_type": "code",
     "collapsed": false,
     "input": [
      "a,b"
     ],
     "language": "python",
     "metadata": {},
     "outputs": [
      {
       "output_type": "pyout",
       "prompt_number": 19,
       "text": [
        "(0.03312031780914055, -0.070886302133340476)"
       ]
      }
     ],
     "prompt_number": 19
    },
    {
     "cell_type": "code",
     "collapsed": false,
     "input": [],
     "language": "python",
     "metadata": {},
     "outputs": [],
     "prompt_number": 19
    }
   ],
   "metadata": {}
  }
 ]
}